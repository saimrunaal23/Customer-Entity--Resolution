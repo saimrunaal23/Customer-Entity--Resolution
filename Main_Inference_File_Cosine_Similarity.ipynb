{
  "nbformat": 4,
  "nbformat_minor": 0,
  "metadata": {
    "colab": {
      "provenance": []
    },
    "kernelspec": {
      "name": "python3",
      "display_name": "Python 3"
    },
    "language_info": {
      "name": "python"
    }
  },
  "cells": [
    {
      "cell_type": "code",
      "execution_count": 1,
      "metadata": {
        "id": "mc4m6FtepYSx"
      },
      "outputs": [],
      "source": [
        "import pandas as pd"
      ]
    },
    {
      "cell_type": "code",
      "source": [
        "schema = pd.read_excel('/content/drive/MyDrive/challenge/Customer Entity Resolution _ Application Prefill/Application Form Schema.xlsx')\n",
        "credit_data = pd.read_excel('/content/drive/MyDrive/challenge/Customer Entity Resolution _ Application Prefill/Customer Demographics - Credit Bureau.xlsx')\n",
        "training_id_match = pd.read_excel('/content/drive/MyDrive/challenge/Customer Entity Resolution _ Application Prefill/Training/Training Data - Ground Truth.xlsx')\n",
        "training_cust_info = pd.read_excel('/content/drive/MyDrive/challenge/Customer Entity Resolution _ Application Prefill/Training/Training Data.xlsx')"
      ],
      "metadata": {
        "id": "doMPFMNFqUy6"
      },
      "execution_count": 4,
      "outputs": []
    },
    {
      "cell_type": "code",
      "source": [
        "from google.colab import drive\n",
        "drive.mount('/content/drive')"
      ],
      "metadata": {
        "colab": {
          "base_uri": "https://localhost:8080/"
        },
        "id": "-O2_fjFVV0Xo",
        "outputId": "7322dd46-9685-47bc-fa95-1c82b77ae3e0"
      },
      "execution_count": 3,
      "outputs": [
        {
          "output_type": "stream",
          "name": "stdout",
          "text": [
            "Mounted at /content/drive\n"
          ]
        }
      ]
    },
    {
      "cell_type": "code",
      "source": [
        "  import nltk\n",
        "  nltk.download('punkt')"
      ],
      "metadata": {
        "colab": {
          "base_uri": "https://localhost:8080/"
        },
        "id": "qLYqSRd25dwW",
        "outputId": "2613c98c-6c04-4bcb-d9ef-3a87f5db7125"
      },
      "execution_count": 5,
      "outputs": [
        {
          "output_type": "stream",
          "name": "stderr",
          "text": [
            "[nltk_data] Downloading package punkt to /root/nltk_data...\n",
            "[nltk_data]   Unzipping tokenizers/punkt.zip.\n"
          ]
        },
        {
          "output_type": "execute_result",
          "data": {
            "text/plain": [
              "True"
            ]
          },
          "metadata": {},
          "execution_count": 5
        }
      ]
    },
    {
      "cell_type": "code",
      "source": [
        "from sklearn.metrics.pairwise import cosine_similarity\n",
        "from sklearn.feature_extraction.text import CountVectorizer\n",
        "import nltk\n",
        "from nltk.tokenize import word_tokenize"
      ],
      "metadata": {
        "id": "oHZvunKR5El5"
      },
      "execution_count": 6,
      "outputs": []
    },
    {
      "cell_type": "code",
      "source": [
        "def get_score(txt1, txt2):\n",
        "\n",
        "  # Tokenize the rows\n",
        "  tokens1 = word_tokenize(txt1)\n",
        "  tokens2 = word_tokenize(txt2)\n",
        "\n",
        "  # Convert tokens to lowercase\n",
        "  tokens1 = [token.lower() for token in tokens1]\n",
        "  tokens2 = [token.lower() for token in tokens2]\n",
        "\n",
        "  # Calculate cosine similarity\n",
        "  vectorizer = CountVectorizer().fit_transform([txt1, txt2])\n",
        "  vectors = vectorizer.toarray()\n",
        "  cosine_sim = cosine_similarity(vectors[0].reshape(1, -1), vectors[1].reshape(1, -1))[0][0]\n",
        "\n",
        "\n",
        "  return cosine_sim\n"
      ],
      "metadata": {
        "id": "SayqkN8T9H3l"
      },
      "execution_count": 7,
      "outputs": []
    },
    {
      "cell_type": "code",
      "source": [
        "cust_info_lst = []\n",
        "credit_info_lst = []\n",
        "credit_info_id = []\n",
        "score = []\n",
        "\n",
        "for i in range(training_cust_info.shape[0]):\n",
        "\n",
        "  a = credit_data[credit_data['id'] == training_id_match['Credit Bureau ID'][i]]\n",
        "  b = training_cust_info[training_cust_info['Cust ID'] == training_id_match['Cust ID'][i]]\n",
        "\n",
        "\n",
        "  selected_values1 = b.iloc[0, 1:]\n",
        "  single_row_text1 = ' '.join(map(str, selected_values1))\n",
        "  single_row_text1 = single_row_text1.lower()\n",
        "  cust_info_lst.append(single_row_text1)\n",
        "\n",
        "  selected_values2 = a.iloc[0, 1:]\n",
        "  single_row_text2 = ' '.join(map(str, selected_values2))\n",
        "  single_row_text2 = single_row_text2.lower()\n",
        "  credit_info_lst.append(single_row_text2)\n",
        "\n",
        "  credit_id = a.iloc[0,:1]\n",
        "  credit_info_id.append(credit_id)\n",
        "\n",
        "\n",
        "  sim_score = get_score(single_row_text1,single_row_text2)\n",
        "  score.append(sim_score)\n",
        "\n"
      ],
      "metadata": {
        "id": "HZxXJlU85Eox"
      },
      "execution_count": 8,
      "outputs": []
    },
    {
      "cell_type": "code",
      "source": [
        "def get_matching_data(txt, lst):\n",
        "\n",
        "   fixed_sent = txt\n",
        "   scores_list = []\n",
        "   for x in lst:\n",
        "      var_sent = x\n",
        "\n",
        "      # Tokenize the rows\n",
        "      tokens1 = word_tokenize(fixed_sent)\n",
        "      tokens2 = word_tokenize(var_sent)\n",
        "\n",
        "      # Convert tokens to lowercase\n",
        "      tokens1 = [token.lower() for token in tokens1]\n",
        "      tokens2 = [token.lower() for token in tokens2]\n",
        "\n",
        "      # Calculate cosine similarity\n",
        "      vectorizer = CountVectorizer().fit_transform([fixed_sent, var_sent])\n",
        "      vectors = vectorizer.toarray()\n",
        "      cosine_sim = cosine_similarity(vectors[0].reshape(1, -1), vectors[1].reshape(1, -1))[0][0]\n",
        "\n",
        "      scores_list.append(cosine_sim)\n",
        "\n",
        "   return scores_list\n"
      ],
      "metadata": {
        "id": "a5USVJUY7Uxj"
      },
      "execution_count": 9,
      "outputs": []
    },
    {
      "cell_type": "code",
      "source": [
        "from pandas.io.stata import StataParser\n",
        "\n",
        "temp = []\n",
        "\n",
        "\n",
        "# Take inputs Records\n",
        "\n",
        "first_name = \"mateo\" # @param {type:\"string\"}\n",
        "if first_name == '':\n",
        "    first_name = 'nan'\n",
        "temp.append(first_name)\n",
        "middle_name = \"nan\" # @param {type:\"string\"}\n",
        "if middle_name == '':\n",
        "    middle_name = 'nan'\n",
        "temp.append(middle_name)\n",
        "last_name = \"sample\" # @param {type:\"string\"}\n",
        "if last_name == '':\n",
        "    last_name = 'nan'\n",
        "temp.append(last_name)\n",
        "prefix = '' # @param {type:\"string\"}\n",
        "if prefix == '':\n",
        "    prefix = 'nan'\n",
        "temp.append(prefix)\n",
        "suffix = \"nan\" # @param {type:\"string\"}\n",
        "if suffix == '':\n",
        "    suffix = 'nan'\n",
        "temp.append(suffix)\n",
        "address1 = \"123 north state\"# @param {type:\"string\"}\n",
        "if address1 == '':\n",
        "    address1 = 'nan'\n",
        "temp.append(address1)\n",
        "address2 = \"st. lansing\" # @param {type:\"string\"}\n",
        "if address2 == '':\n",
        "    address2 = 'nan'\n",
        "temp.append(address2)\n",
        "city = \"nan\"  # @param {type:\"string\"}\n",
        "if city == '':\n",
        "    city = 'nan'\n",
        "temp.append(city)\n",
        "state = \"michigan\" # @param {type:\"string\"}\n",
        "if state == '':\n",
        "    state = 'nan'\n",
        "temp.append(state)\n",
        "zip = \"nan\" # @param {type:\"string\"}\n",
        "if zip == '':\n",
        "    zip = 'nan'\n",
        "temp.append(zip)\n",
        "dob = \"1996-08-10\" # @param {type:\"string\"}\n",
        "if dob == '':\n",
        "    dob = 'nan'\n",
        "dob = dob + ' 00:00:00'\n",
        "temp.append(dob)\n",
        "\n",
        "search_info = ' '.join(temp)\n",
        "print(f'The information entered is: \\n {search_info}')\n",
        "\n",
        "print()\n",
        "print('Fetched Data is:')\n",
        "output = get_matching_data(search_info, credit_info_lst)\n",
        "index = output.index(max(output))\n",
        "print(credit_info_lst[index])\n",
        "temp_df = credit_data[credit_data['id'] == credit_info_id[index][0]]\n",
        "print()\n",
        "\n",
        "# Convert DataFrame to dictionary\n",
        "result_dict = temp_df.to_dict(orient='records')[0]\n",
        "for key, value in result_dict.items():\n",
        "     print(f\"'{key}': {value}\")\n",
        "\n",
        "print()\n",
        "temp_df.to_csv('Credit_Information.csv')\n",
        "print('Information Downloaded in excel................')"
      ],
      "metadata": {
        "colab": {
          "base_uri": "https://localhost:8080/"
        },
        "id": "WfGLesaUP_Ad",
        "outputId": "7ce2c2c0-a8f2-4644-8f79-618e38dcc106"
      },
      "execution_count": 10,
      "outputs": [
        {
          "output_type": "stream",
          "name": "stdout",
          "text": [
            "The information entered is: \n",
            " mateo nan sample nan nan 123 north state st. lansing nan michigan nan 1996-08-10 00:00:00\n",
            "\n",
            "Fetched Data is:\n",
            "mateo nan sample nan nan 123 north state st. lansing, mi 48918-0000 nan nan michigan 48918-0000 1996-08-10 00:00:00\n",
            "\n",
            "'id': 66178\n",
            "'first_name': Mateo\n",
            "'Middle name': nan\n",
            "'last_name': Sample\n",
            "'prefix': nan\n",
            "'suffix': nan\n",
            "'addr 1': 123 North State St. Lansing, MI 48918-0000\n",
            "'addr 2': nan\n",
            "'city': nan\n",
            "'state': Michigan\n",
            "'zip': 48918-0000\n",
            "'DOB': 1996-08-10 00:00:00\n",
            "\n",
            "Information Downloaded in excel................\n"
          ]
        }
      ]
    }
  ]
}